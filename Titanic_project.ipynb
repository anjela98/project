{
 "cells": [
  {
   "cell_type": "code",
   "execution_count": 1,
   "metadata": {},
   "outputs": [],
   "source": [
    "import pandas as pd\n",
    "from pandas import Series, DataFrame"
   ]
  },
  {
   "cell_type": "code",
   "execution_count": 2,
   "metadata": {},
   "outputs": [],
   "source": [
    "titanic_df=pd.read_csv('train.csv')"
   ]
  },
  {
   "cell_type": "code",
   "execution_count": 3,
   "metadata": {},
   "outputs": [
    {
     "data": {
      "text/html": [
       "<div>\n",
       "<style scoped>\n",
       "    .dataframe tbody tr th:only-of-type {\n",
       "        vertical-align: middle;\n",
       "    }\n",
       "\n",
       "    .dataframe tbody tr th {\n",
       "        vertical-align: top;\n",
       "    }\n",
       "\n",
       "    .dataframe thead th {\n",
       "        text-align: right;\n",
       "    }\n",
       "</style>\n",
       "<table border=\"1\" class=\"dataframe\">\n",
       "  <thead>\n",
       "    <tr style=\"text-align: right;\">\n",
       "      <th></th>\n",
       "      <th>PassengerId</th>\n",
       "      <th>Survived</th>\n",
       "      <th>Pclass</th>\n",
       "      <th>Name</th>\n",
       "      <th>Sex</th>\n",
       "      <th>Age</th>\n",
       "      <th>SibSp</th>\n",
       "      <th>Parch</th>\n",
       "      <th>Ticket</th>\n",
       "      <th>Fare</th>\n",
       "      <th>Cabin</th>\n",
       "      <th>Embarked</th>\n",
       "    </tr>\n",
       "  </thead>\n",
       "  <tbody>\n",
       "    <tr>\n",
       "      <th>0</th>\n",
       "      <td>1</td>\n",
       "      <td>0</td>\n",
       "      <td>3</td>\n",
       "      <td>Braund, Mr. Owen Harris</td>\n",
       "      <td>male</td>\n",
       "      <td>22.0</td>\n",
       "      <td>1</td>\n",
       "      <td>0</td>\n",
       "      <td>A/5 21171</td>\n",
       "      <td>7.2500</td>\n",
       "      <td>NaN</td>\n",
       "      <td>S</td>\n",
       "    </tr>\n",
       "    <tr>\n",
       "      <th>1</th>\n",
       "      <td>2</td>\n",
       "      <td>1</td>\n",
       "      <td>1</td>\n",
       "      <td>Cumings, Mrs. John Bradley (Florence Briggs Th...</td>\n",
       "      <td>female</td>\n",
       "      <td>38.0</td>\n",
       "      <td>1</td>\n",
       "      <td>0</td>\n",
       "      <td>PC 17599</td>\n",
       "      <td>71.2833</td>\n",
       "      <td>C85</td>\n",
       "      <td>C</td>\n",
       "    </tr>\n",
       "    <tr>\n",
       "      <th>2</th>\n",
       "      <td>3</td>\n",
       "      <td>1</td>\n",
       "      <td>3</td>\n",
       "      <td>Heikkinen, Miss. Laina</td>\n",
       "      <td>female</td>\n",
       "      <td>26.0</td>\n",
       "      <td>0</td>\n",
       "      <td>0</td>\n",
       "      <td>STON/O2. 3101282</td>\n",
       "      <td>7.9250</td>\n",
       "      <td>NaN</td>\n",
       "      <td>S</td>\n",
       "    </tr>\n",
       "    <tr>\n",
       "      <th>3</th>\n",
       "      <td>4</td>\n",
       "      <td>1</td>\n",
       "      <td>1</td>\n",
       "      <td>Futrelle, Mrs. Jacques Heath (Lily May Peel)</td>\n",
       "      <td>female</td>\n",
       "      <td>35.0</td>\n",
       "      <td>1</td>\n",
       "      <td>0</td>\n",
       "      <td>113803</td>\n",
       "      <td>53.1000</td>\n",
       "      <td>C123</td>\n",
       "      <td>S</td>\n",
       "    </tr>\n",
       "    <tr>\n",
       "      <th>4</th>\n",
       "      <td>5</td>\n",
       "      <td>0</td>\n",
       "      <td>3</td>\n",
       "      <td>Allen, Mr. William Henry</td>\n",
       "      <td>male</td>\n",
       "      <td>35.0</td>\n",
       "      <td>0</td>\n",
       "      <td>0</td>\n",
       "      <td>373450</td>\n",
       "      <td>8.0500</td>\n",
       "      <td>NaN</td>\n",
       "      <td>S</td>\n",
       "    </tr>\n",
       "  </tbody>\n",
       "</table>\n",
       "</div>"
      ],
      "text/plain": [
       "   PassengerId  Survived  Pclass  \\\n",
       "0            1         0       3   \n",
       "1            2         1       1   \n",
       "2            3         1       3   \n",
       "3            4         1       1   \n",
       "4            5         0       3   \n",
       "\n",
       "                                                Name     Sex   Age  SibSp  \\\n",
       "0                            Braund, Mr. Owen Harris    male  22.0      1   \n",
       "1  Cumings, Mrs. John Bradley (Florence Briggs Th...  female  38.0      1   \n",
       "2                             Heikkinen, Miss. Laina  female  26.0      0   \n",
       "3       Futrelle, Mrs. Jacques Heath (Lily May Peel)  female  35.0      1   \n",
       "4                           Allen, Mr. William Henry    male  35.0      0   \n",
       "\n",
       "   Parch            Ticket     Fare Cabin Embarked  \n",
       "0      0         A/5 21171   7.2500   NaN        S  \n",
       "1      0          PC 17599  71.2833   C85        C  \n",
       "2      0  STON/O2. 3101282   7.9250   NaN        S  \n",
       "3      0            113803  53.1000  C123        S  \n",
       "4      0            373450   8.0500   NaN        S  "
      ]
     },
     "execution_count": 3,
     "metadata": {},
     "output_type": "execute_result"
    }
   ],
   "source": [
    "titanic_df.head()"
   ]
  },
  {
   "cell_type": "code",
   "execution_count": 4,
   "metadata": {},
   "outputs": [],
   "source": [
    "import numpy as np\n",
    "import matplotlib.pyplot as plt\n",
    "import seaborn as sns\n",
    "%matplotlib inline"
   ]
  },
  {
   "cell_type": "code",
   "execution_count": 5,
   "metadata": {},
   "outputs": [
    {
     "data": {
      "text/plain": [
       "<seaborn.axisgrid.FacetGrid at 0xbab77b8>"
      ]
     },
     "execution_count": 5,
     "metadata": {},
     "output_type": "execute_result"
    },
    {
     "data": {
      "image/png": "[encoded data removed]",
      "text/plain": [
       "<Figure size 288x288 with 1 Axes>"
      ]
     },
     "metadata": {},
     "output_type": "display_data"
    }
   ],
   "source": [
    "sns.factorplot('Sex' , data=titanic_df, kind=\"count\")"
   ]
  },
  {
   "cell_type": "code",
   "execution_count": 6,
   "metadata": {},
   "outputs": [
    {
     "data": {
      "text/plain": [
       "<seaborn.axisgrid.FacetGrid at 0xbae61d0>"
      ]
     },
     "execution_count": 6,
     "metadata": {},
     "output_type": "execute_result"
    },
    {
     "data": {
      "image/png": "[encoded data removed]",
      "text/plain": [
       "<Figure size 330.375x288 with 1 Axes>"
      ]
     },
     "metadata": {},
     "output_type": "display_data"
    }
   ],
   "source": [
    "sns.factorplot('Sex',data=titanic_df,hue='Pclass',kind=\"count\")\n",
    "#hue denotes the different colors are based on which column"
   ]
  },
  {
   "cell_type": "code",
   "execution_count": 7,
   "metadata": {},
   "outputs": [
    {
     "data": {
      "text/plain": [
       "<seaborn.axisgrid.FacetGrid at 0xbb3fba8>"
      ]
     },
     "execution_count": 7,
     "metadata": {},
     "output_type": "execute_result"
    },
    {
     "data": {
      "image/png": "[encoded data removed]",
      "text/plain": [
       "<Figure size 358.5x288 with 1 Axes>"
      ]
     },
     "metadata": {},
     "output_type": "display_data"
    }
   ],
   "source": [
    "sns.factorplot('Pclass',data=titanic_df,hue='Sex',kind=\"count\")"
   ]
  },
  {
   "cell_type": "code",
   "execution_count": 8,
   "metadata": {},
   "outputs": [],
   "source": [
    "def male_female_child(passenger):\n",
    "    age,sex=passenger\n",
    "    \n",
    "    if age < 16:\n",
    "        return 'child'\n",
    "    else:\n",
    "        return sex"
   ]
  },
  {
   "cell_type": "code",
   "execution_count": 9,
   "metadata": {},
   "outputs": [
    {
     "data": {
      "text/html": [
       "<div>\n",
       "<style scoped>\n",
       "    .dataframe tbody tr th:only-of-type {\n",
       "        vertical-align: middle;\n",
       "    }\n",
       "\n",
       "    .dataframe tbody tr th {\n",
       "        vertical-align: top;\n",
       "    }\n",
       "\n",
       "    .dataframe thead th {\n",
       "        text-align: right;\n",
       "    }\n",
       "</style>\n",
       "<table border=\"1\" class=\"dataframe\">\n",
       "  <thead>\n",
       "    <tr style=\"text-align: right;\">\n",
       "      <th></th>\n",
       "      <th>PassengerId</th>\n",
       "      <th>Survived</th>\n",
       "      <th>Pclass</th>\n",
       "      <th>Name</th>\n",
       "      <th>Sex</th>\n",
       "      <th>Age</th>\n",
       "      <th>SibSp</th>\n",
       "      <th>Parch</th>\n",
       "      <th>Ticket</th>\n",
       "      <th>Fare</th>\n",
       "      <th>Cabin</th>\n",
       "      <th>Embarked</th>\n",
       "      <th>person</th>\n",
       "    </tr>\n",
       "  </thead>\n",
       "  <tbody>\n",
       "    <tr>\n",
       "      <th>0</th>\n",
       "      <td>1</td>\n",
       "      <td>0</td>\n",
       "      <td>3</td>\n",
       "      <td>Braund, Mr. Owen Harris</td>\n",
       "      <td>male</td>\n",
       "      <td>22.0</td>\n",
       "      <td>1</td>\n",
       "      <td>0</td>\n",
       "      <td>A/5 21171</td>\n",
       "      <td>7.2500</td>\n",
       "      <td>NaN</td>\n",
       "      <td>S</td>\n",
       "      <td>male</td>\n",
       "    </tr>\n",
       "    <tr>\n",
       "      <th>1</th>\n",
       "      <td>2</td>\n",
       "      <td>1</td>\n",
       "      <td>1</td>\n",
       "      <td>Cumings, Mrs. John Bradley (Florence Briggs Th...</td>\n",
       "      <td>female</td>\n",
       "      <td>38.0</td>\n",
       "      <td>1</td>\n",
       "      <td>0</td>\n",
       "      <td>PC 17599</td>\n",
       "      <td>71.2833</td>\n",
       "      <td>C85</td>\n",
       "      <td>C</td>\n",
       "      <td>female</td>\n",
       "    </tr>\n",
       "    <tr>\n",
       "      <th>2</th>\n",
       "      <td>3</td>\n",
       "      <td>1</td>\n",
       "      <td>3</td>\n",
       "      <td>Heikkinen, Miss. Laina</td>\n",
       "      <td>female</td>\n",
       "      <td>26.0</td>\n",
       "      <td>0</td>\n",
       "      <td>0</td>\n",
       "      <td>STON/O2. 3101282</td>\n",
       "      <td>7.9250</td>\n",
       "      <td>NaN</td>\n",
       "      <td>S</td>\n",
       "      <td>female</td>\n",
       "    </tr>\n",
       "    <tr>\n",
       "      <th>3</th>\n",
       "      <td>4</td>\n",
       "      <td>1</td>\n",
       "      <td>1</td>\n",
       "      <td>Futrelle, Mrs. Jacques Heath (Lily May Peel)</td>\n",
       "      <td>female</td>\n",
       "      <td>35.0</td>\n",
       "      <td>1</td>\n",
       "      <td>0</td>\n",
       "      <td>113803</td>\n",
       "      <td>53.1000</td>\n",
       "      <td>C123</td>\n",
       "      <td>S</td>\n",
       "      <td>female</td>\n",
       "    </tr>\n",
       "    <tr>\n",
       "      <th>4</th>\n",
       "      <td>5</td>\n",
       "      <td>0</td>\n",
       "      <td>3</td>\n",
       "      <td>Allen, Mr. William Henry</td>\n",
       "      <td>male</td>\n",
       "      <td>35.0</td>\n",
       "      <td>0</td>\n",
       "      <td>0</td>\n",
       "      <td>373450</td>\n",
       "      <td>8.0500</td>\n",
       "      <td>NaN</td>\n",
       "      <td>S</td>\n",
       "      <td>male</td>\n",
       "    </tr>\n",
       "    <tr>\n",
       "      <th>5</th>\n",
       "      <td>6</td>\n",
       "      <td>0</td>\n",
       "      <td>3</td>\n",
       "      <td>Moran, Mr. James</td>\n",
       "      <td>male</td>\n",
       "      <td>NaN</td>\n",
       "      <td>0</td>\n",
       "      <td>0</td>\n",
       "      <td>330877</td>\n",
       "      <td>8.4583</td>\n",
       "      <td>NaN</td>\n",
       "      <td>Q</td>\n",
       "      <td>male</td>\n",
       "    </tr>\n",
       "    <tr>\n",
       "      <th>6</th>\n",
       "      <td>7</td>\n",
       "      <td>0</td>\n",
       "      <td>1</td>\n",
       "      <td>McCarthy, Mr. Timothy J</td>\n",
       "      <td>male</td>\n",
       "      <td>54.0</td>\n",
       "      <td>0</td>\n",
       "      <td>0</td>\n",
       "      <td>17463</td>\n",
       "      <td>51.8625</td>\n",
       "      <td>E46</td>\n",
       "      <td>S</td>\n",
       "      <td>male</td>\n",
       "    </tr>\n",
       "    <tr>\n",
       "      <th>7</th>\n",
       "      <td>8</td>\n",
       "      <td>0</td>\n",
       "      <td>3</td>\n",
       "      <td>Palsson, Master. Gosta Leonard</td>\n",
       "      <td>male</td>\n",
       "      <td>2.0</td>\n",
       "      <td>3</td>\n",
       "      <td>1</td>\n",
       "      <td>349909</td>\n",
       "      <td>21.0750</td>\n",
       "      <td>NaN</td>\n",
       "      <td>S</td>\n",
       "      <td>child</td>\n",
       "    </tr>\n",
       "    <tr>\n",
       "      <th>8</th>\n",
       "      <td>9</td>\n",
       "      <td>1</td>\n",
       "      <td>3</td>\n",
       "      <td>Johnson, Mrs. Oscar W (Elisabeth Vilhelmina Berg)</td>\n",
       "      <td>female</td>\n",
       "      <td>27.0</td>\n",
       "      <td>0</td>\n",
       "      <td>2</td>\n",
       "      <td>347742</td>\n",
       "      <td>11.1333</td>\n",
       "      <td>NaN</td>\n",
       "      <td>S</td>\n",
       "      <td>female</td>\n",
       "    </tr>\n",
       "    <tr>\n",
       "      <th>9</th>\n",
       "      <td>10</td>\n",
       "      <td>1</td>\n",
       "      <td>2</td>\n",
       "      <td>Nasser, Mrs. Nicholas (Adele Achem)</td>\n",
       "      <td>female</td>\n",
       "      <td>14.0</td>\n",
       "      <td>1</td>\n",
       "      <td>0</td>\n",
       "      <td>237736</td>\n",
       "      <td>30.0708</td>\n",
       "      <td>NaN</td>\n",
       "      <td>C</td>\n",
       "      <td>child</td>\n",
       "    </tr>\n",
       "  </tbody>\n",
       "</table>\n",
       "</div>"
      ],
      "text/plain": [
       "   PassengerId  Survived  Pclass  \\\n",
       "0            1         0       3   \n",
       "1            2         1       1   \n",
       "2            3         1       3   \n",
       "3            4         1       1   \n",
       "4            5         0       3   \n",
       "5            6         0       3   \n",
       "6            7         0       1   \n",
       "7            8         0       3   \n",
       "8            9         1       3   \n",
       "9           10         1       2   \n",
       "\n",
       "                                                Name     Sex   Age  SibSp  \\\n",
       "0                            Braund, Mr. Owen Harris    male  22.0      1   \n",
       "1  Cumings, Mrs. John Bradley (Florence Briggs Th...  female  38.0      1   \n",
       "2                             Heikkinen, Miss. Laina  female  26.0      0   \n",
       "3       Futrelle, Mrs. Jacques Heath (Lily May Peel)  female  35.0      1   \n",
       "4                           Allen, Mr. William Henry    male  35.0      0   \n",
       "5                                   Moran, Mr. James    male   NaN      0   \n",
       "6                            McCarthy, Mr. Timothy J    male  54.0      0   \n",
       "7                     Palsson, Master. Gosta Leonard    male   2.0      3   \n",
       "8  Johnson, Mrs. Oscar W (Elisabeth Vilhelmina Berg)  female  27.0      0   \n",
       "9                Nasser, Mrs. Nicholas (Adele Achem)  female  14.0      1   \n",
       "\n",
       "   Parch            Ticket     Fare Cabin Embarked  person  \n",
       "0      0         A/5 21171   7.2500   NaN        S    male  \n",
       "1      0          PC 17599  71.2833   C85        C  female  \n",
       "2      0  STON/O2. 3101282   7.9250   NaN        S  female  \n",
       "3      0            113803  53.1000  C123        S  female  \n",
       "4      0            373450   8.0500   NaN        S    male  \n",
       "5      0            330877   8.4583   NaN        Q    male  \n",
       "6      0             17463  51.8625   E46        S    male  \n",
       "7      1            349909  21.0750   NaN        S   child  \n",
       "8      2            347742  11.1333   NaN        S  female  \n",
       "9      0            237736  30.0708   NaN        C   child  "
      ]
     },
     "execution_count": 9,
     "metadata": {},
     "output_type": "execute_result"
    }
   ],
   "source": [
    "#in this we are creating a new column in titanic_df namely person.Then we take age and sex column and apply male_female_child function to it\n",
    "\n",
    "titanic_df['person']=titanic_df[['Age','Sex']].apply(male_female_child,axis=1)\n",
    "titanic_df[0:10]"
   ]
  },
  {
   "cell_type": "code",
   "execution_count": 10,
   "metadata": {},
   "outputs": [
    {
     "data": {
      "text/plain": [
       "<seaborn.axisgrid.FacetGrid at 0xbf75860>"
      ]
     },
     "execution_count": 10,
     "metadata": {},
     "output_type": "execute_result"
    },
    {
     "data": {
      "image/png": "[encoded data removed]",
      "text/plain": [
       "<Figure size 358.5x288 with 1 Axes>"
      ]
     },
     "metadata": {},
     "output_type": "display_data"
    }
   ],
   "source": [
    "sns.factorplot('Pclass',data=titanic_df,hue='person',kind=\"count\")"
   ]
  },
  {
   "cell_type": "code",
   "execution_count": 11,
   "metadata": {},
   "outputs": [
    {
     "data": {
      "text/plain": [
       "<matplotlib.axes._subplots.AxesSubplot at 0xc226710>"
      ]
     },
     "execution_count": 11,
     "metadata": {},
     "output_type": "execute_result"
    },
    {
     "data": {
      "image/png": "[encoded data removed]",
      "text/plain": [
       "<Figure size 432x288 with 1 Axes>"
      ]
     },
     "metadata": {},
     "output_type": "display_data"
    }
   ],
   "source": [
    "titanic_df['Age'].hist(bins=70)"
   ]
  },
  {
   "cell_type": "code",
   "execution_count": 12,
   "metadata": {},
   "outputs": [
    {
     "data": {
      "text/plain": [
       "29.69911764705882"
      ]
     },
     "execution_count": 12,
     "metadata": {},
     "output_type": "execute_result"
    }
   ],
   "source": [
    "titanic_df['Age'].mean()"
   ]
  },
  {
   "cell_type": "code",
   "execution_count": 13,
   "metadata": {},
   "outputs": [
    {
     "data": {
      "text/plain": [
       "male      537\n",
       "female    271\n",
       "child      83\n",
       "Name: person, dtype: int64"
      ]
     },
     "execution_count": 13,
     "metadata": {},
     "output_type": "execute_result"
    }
   ],
   "source": [
    "titanic_df['person'].value_counts()"
   ]
  },
  {
   "cell_type": "code",
   "execution_count": 14,
   "metadata": {},
   "outputs": [
    {
     "data": {
      "text/plain": [
       "<seaborn.axisgrid.FacetGrid at 0xbe20a20>"
      ]
     },
     "execution_count": 14,
     "metadata": {},
     "output_type": "execute_result"
    },
    {
     "data": {
      "image/png": "[encoded data removed]",
      "text/plain": [
       "<Figure size 934.5x216 with 1 Axes>"
      ]
     },
     "metadata": {},
     "output_type": "display_data"
    }
   ],
   "source": [
    "fig = sns.FacetGrid(titanic_df, hue=\"Sex\",aspect=4)\n",
    "fig.map(sns.kdeplot,'Age',shade= True)\n",
    "oldest = titanic_df['Age'].max()\n",
    "fig.set(xlim=(0,oldest)) #age can never be negative so we take from 0 to oldest\n",
    "fig.add_legend() #manually we add legend"
   ]
  },
  {
   "cell_type": "code",
   "execution_count": 15,
   "metadata": {},
   "outputs": [
    {
     "data": {
      "text/plain": [
       "<seaborn.axisgrid.FacetGrid at 0xc5d02b0>"
      ]
     },
     "execution_count": 15,
     "metadata": {},
     "output_type": "execute_result"
    },
    {
     "data": {
      "image/png": "[encoded data removed]",
      "text/plain": [
       "<Figure size 934.5x216 with 1 Axes>"
      ]
     },
     "metadata": {},
     "output_type": "display_data"
    }
   ],
   "source": [
    "fig = sns.FacetGrid(titanic_df, hue=\"person\",aspect=4) #we want to add child so we change hue to person\n",
    "fig.map(sns.kdeplot,'Age',shade= True)\n",
    "oldest = titanic_df['Age'].max()\n",
    "fig.set(xlim=(0,oldest))\n",
    "fig.add_legend()"
   ]
  },
  {
   "cell_type": "code",
   "execution_count": 16,
   "metadata": {},
   "outputs": [
    {
     "data": {
      "text/plain": [
       "<seaborn.axisgrid.FacetGrid at 0xc615a20>"
      ]
     },
     "execution_count": 16,
     "metadata": {},
     "output_type": "execute_result"
    },
    {
     "data": {
      "image/png": "[encoded data removed]",
      "text/plain": [
       "<Figure size 906.375x216 with 1 Axes>"
      ]
     },
     "metadata": {},
     "output_type": "display_data"
    }
   ],
   "source": [
    "fig = sns.FacetGrid(titanic_df, hue=\"Pclass\",aspect=4)\n",
    "fig.map(sns.kdeplot,'Age',shade= True)\n",
    "oldest = titanic_df['Age'].max()\n",
    "fig.set(xlim=(0,oldest))\n",
    "fig.add_legend()"
   ]
  },
  {
   "cell_type": "code",
   "execution_count": 17,
   "metadata": {},
   "outputs": [],
   "source": [
    "deck=titanic_df['Cabin'].dropna()"
   ]
  },
  {
   "cell_type": "code",
   "execution_count": 18,
   "metadata": {},
   "outputs": [
    {
     "data": {
      "text/plain": [
       "1      C85\n",
       "3     C123\n",
       "6      E46\n",
       "10      G6\n",
       "11    C103\n",
       "Name: Cabin, dtype: object"
      ]
     },
     "execution_count": 18,
     "metadata": {},
     "output_type": "execute_result"
    }
   ],
   "source": [
    "deck.head()"
   ]
  },
  {
   "cell_type": "code",
   "execution_count": 19,
   "metadata": {},
   "outputs": [
    {
     "data": {
      "text/plain": [
       "<seaborn.axisgrid.FacetGrid at 0xd342438>"
      ]
     },
     "execution_count": 19,
     "metadata": {},
     "output_type": "execute_result"
    },
    {
     "data": {
      "image/png": "[encoded data removed]",
      "text/plain": [
       "<Figure size 288x288 with 1 Axes>"
      ]
     },
     "metadata": {},
     "output_type": "display_data"
    }
   ],
   "source": [
    "# Set empty list\n",
    "levels = []\n",
    "\n",
    "# Loop to grab first letter\n",
    "for level in deck:\n",
    "    levels.append(level[0])    \n",
    "\n",
    "# Reset DataFrame and use factor plot\n",
    "cabin_df = DataFrame(levels)\n",
    "cabin_df.columns = ['Cabin']\n",
    "sns.factorplot('Cabin',data=cabin_df,palette='winter_d',kind=\"count\")"
   ]
  },
  {
   "cell_type": "code",
   "execution_count": 22,
   "metadata": {},
   "outputs": [
    {
     "data": {
      "text/plain": [
       "<seaborn.axisgrid.FacetGrid at 0xdafbeb8>"
      ]
     },
     "execution_count": 22,
     "metadata": {},
     "output_type": "execute_result"
    },
    {
     "data": {
      "image/png": "[encoded data removed]",
      "text/plain": [
       "<Figure size 288x288 with 1 Axes>"
      ]
     },
     "metadata": {},
     "output_type": "display_data"
    }
   ],
   "source": [
    "cabin_df=cabin_df[cabin_df.Cabin != 'T']\n",
    "sns.factorplot('Cabin',data=cabin_df,palette='summer',kind=\"count\")"
   ]
  },
  {
   "cell_type": "code",
   "execution_count": 23,
   "metadata": {},
   "outputs": [
    {
     "data": {
      "text/html": [
       "<div>\n",
       "<style scoped>\n",
       "    .dataframe tbody tr th:only-of-type {\n",
       "        vertical-align: middle;\n",
       "    }\n",
       "\n",
       "    .dataframe tbody tr th {\n",
       "        vertical-align: top;\n",
       "    }\n",
       "\n",
       "    .dataframe thead th {\n",
       "        text-align: right;\n",
       "    }\n",
       "</style>\n",
       "<table border=\"1\" class=\"dataframe\">\n",
       "  <thead>\n",
       "    <tr style=\"text-align: right;\">\n",
       "      <th></th>\n",
       "      <th>PassengerId</th>\n",
       "      <th>Survived</th>\n",
       "      <th>Pclass</th>\n",
       "      <th>Name</th>\n",
       "      <th>Sex</th>\n",
       "      <th>Age</th>\n",
       "      <th>SibSp</th>\n",
       "      <th>Parch</th>\n",
       "      <th>Ticket</th>\n",
       "      <th>Fare</th>\n",
       "      <th>Cabin</th>\n",
       "      <th>Embarked</th>\n",
       "      <th>person</th>\n",
       "    </tr>\n",
       "  </thead>\n",
       "  <tbody>\n",
       "    <tr>\n",
       "      <th>0</th>\n",
       "      <td>1</td>\n",
       "      <td>0</td>\n",
       "      <td>3</td>\n",
       "      <td>Braund, Mr. Owen Harris</td>\n",
       "      <td>male</td>\n",
       "      <td>22.0</td>\n",
       "      <td>1</td>\n",
       "      <td>0</td>\n",
       "      <td>A/5 21171</td>\n",
       "      <td>7.2500</td>\n",
       "      <td>NaN</td>\n",
       "      <td>S</td>\n",
       "      <td>male</td>\n",
       "    </tr>\n",
       "    <tr>\n",
       "      <th>1</th>\n",
       "      <td>2</td>\n",
       "      <td>1</td>\n",
       "      <td>1</td>\n",
       "      <td>Cumings, Mrs. John Bradley (Florence Briggs Th...</td>\n",
       "      <td>female</td>\n",
       "      <td>38.0</td>\n",
       "      <td>1</td>\n",
       "      <td>0</td>\n",
       "      <td>PC 17599</td>\n",
       "      <td>71.2833</td>\n",
       "      <td>C85</td>\n",
       "      <td>C</td>\n",
       "      <td>female</td>\n",
       "    </tr>\n",
       "    <tr>\n",
       "      <th>2</th>\n",
       "      <td>3</td>\n",
       "      <td>1</td>\n",
       "      <td>3</td>\n",
       "      <td>Heikkinen, Miss. Laina</td>\n",
       "      <td>female</td>\n",
       "      <td>26.0</td>\n",
       "      <td>0</td>\n",
       "      <td>0</td>\n",
       "      <td>STON/O2. 3101282</td>\n",
       "      <td>7.9250</td>\n",
       "      <td>NaN</td>\n",
       "      <td>S</td>\n",
       "      <td>female</td>\n",
       "    </tr>\n",
       "    <tr>\n",
       "      <th>3</th>\n",
       "      <td>4</td>\n",
       "      <td>1</td>\n",
       "      <td>1</td>\n",
       "      <td>Futrelle, Mrs. Jacques Heath (Lily May Peel)</td>\n",
       "      <td>female</td>\n",
       "      <td>35.0</td>\n",
       "      <td>1</td>\n",
       "      <td>0</td>\n",
       "      <td>113803</td>\n",
       "      <td>53.1000</td>\n",
       "      <td>C123</td>\n",
       "      <td>S</td>\n",
       "      <td>female</td>\n",
       "    </tr>\n",
       "    <tr>\n",
       "      <th>4</th>\n",
       "      <td>5</td>\n",
       "      <td>0</td>\n",
       "      <td>3</td>\n",
       "      <td>Allen, Mr. William Henry</td>\n",
       "      <td>male</td>\n",
       "      <td>35.0</td>\n",
       "      <td>0</td>\n",
       "      <td>0</td>\n",
       "      <td>373450</td>\n",
       "      <td>8.0500</td>\n",
       "      <td>NaN</td>\n",
       "      <td>S</td>\n",
       "      <td>male</td>\n",
       "    </tr>\n",
       "  </tbody>\n",
       "</table>\n",
       "</div>"
      ],
      "text/plain": [
       "   PassengerId  Survived  Pclass  \\\n",
       "0            1         0       3   \n",
       "1            2         1       1   \n",
       "2            3         1       3   \n",
       "3            4         1       1   \n",
       "4            5         0       3   \n",
       "\n",
       "                                                Name     Sex   Age  SibSp  \\\n",
       "0                            Braund, Mr. Owen Harris    male  22.0      1   \n",
       "1  Cumings, Mrs. John Bradley (Florence Briggs Th...  female  38.0      1   \n",
       "2                             Heikkinen, Miss. Laina  female  26.0      0   \n",
       "3       Futrelle, Mrs. Jacques Heath (Lily May Peel)  female  35.0      1   \n",
       "4                           Allen, Mr. William Henry    male  35.0      0   \n",
       "\n",
       "   Parch            Ticket     Fare Cabin Embarked  person  \n",
       "0      0         A/5 21171   7.2500   NaN        S    male  \n",
       "1      0          PC 17599  71.2833   C85        C  female  \n",
       "2      0  STON/O2. 3101282   7.9250   NaN        S  female  \n",
       "3      0            113803  53.1000  C123        S  female  \n",
       "4      0            373450   8.0500   NaN        S    male  "
      ]
     },
     "execution_count": 23,
     "metadata": {},
     "output_type": "execute_result"
    }
   ],
   "source": [
    "titanic_df.head()"
   ]
  },
  {
   "cell_type": "code",
   "execution_count": 27,
   "metadata": {},
   "outputs": [
    {
     "data": {
      "text/plain": [
       "<seaborn.axisgrid.FacetGrid at 0xe585c88>"
      ]
     },
     "execution_count": 27,
     "metadata": {},
     "output_type": "execute_result"
    },
    {
     "data": {
      "image/png": "[encoded data removed]",
      "text/plain": [
       "<Figure size 358.5x288 with 1 Axes>"
      ]
     },
     "metadata": {},
     "output_type": "display_data"
    }
   ],
   "source": [
    "sns.factorplot('Pclass',data=titanic_df,hue='person',kind=\"count\")"
   ]
  },
  {
   "cell_type": "code",
   "execution_count": 26,
   "metadata": {},
   "outputs": [
    {
     "data": {
      "text/html": [
       "<div>\n",
       "<style scoped>\n",
       "    .dataframe tbody tr th:only-of-type {\n",
       "        vertical-align: middle;\n",
       "    }\n",
       "\n",
       "    .dataframe tbody tr th {\n",
       "        vertical-align: top;\n",
       "    }\n",
       "\n",
       "    .dataframe thead th {\n",
       "        text-align: right;\n",
       "    }\n",
       "</style>\n",
       "<table border=\"1\" class=\"dataframe\">\n",
       "  <thead>\n",
       "    <tr style=\"text-align: right;\">\n",
       "      <th></th>\n",
       "      <th>PassengerId</th>\n",
       "      <th>Survived</th>\n",
       "      <th>Pclass</th>\n",
       "      <th>Name</th>\n",
       "      <th>Sex</th>\n",
       "      <th>Age</th>\n",
       "      <th>SibSp</th>\n",
       "      <th>Parch</th>\n",
       "      <th>Ticket</th>\n",
       "      <th>Fare</th>\n",
       "      <th>Cabin</th>\n",
       "      <th>Embarked</th>\n",
       "      <th>person</th>\n",
       "    </tr>\n",
       "  </thead>\n",
       "  <tbody>\n",
       "    <tr>\n",
       "      <th>0</th>\n",
       "      <td>1</td>\n",
       "      <td>0</td>\n",
       "      <td>3</td>\n",
       "      <td>Braund, Mr. Owen Harris</td>\n",
       "      <td>male</td>\n",
       "      <td>22.0</td>\n",
       "      <td>1</td>\n",
       "      <td>0</td>\n",
       "      <td>A/5 21171</td>\n",
       "      <td>7.2500</td>\n",
       "      <td>NaN</td>\n",
       "      <td>S</td>\n",
       "      <td>male</td>\n",
       "    </tr>\n",
       "    <tr>\n",
       "      <th>1</th>\n",
       "      <td>2</td>\n",
       "      <td>1</td>\n",
       "      <td>1</td>\n",
       "      <td>Cumings, Mrs. John Bradley (Florence Briggs Th...</td>\n",
       "      <td>female</td>\n",
       "      <td>38.0</td>\n",
       "      <td>1</td>\n",
       "      <td>0</td>\n",
       "      <td>PC 17599</td>\n",
       "      <td>71.2833</td>\n",
       "      <td>C85</td>\n",
       "      <td>C</td>\n",
       "      <td>female</td>\n",
       "    </tr>\n",
       "    <tr>\n",
       "      <th>2</th>\n",
       "      <td>3</td>\n",
       "      <td>1</td>\n",
       "      <td>3</td>\n",
       "      <td>Heikkinen, Miss. Laina</td>\n",
       "      <td>female</td>\n",
       "      <td>26.0</td>\n",
       "      <td>0</td>\n",
       "      <td>0</td>\n",
       "      <td>STON/O2. 3101282</td>\n",
       "      <td>7.9250</td>\n",
       "      <td>NaN</td>\n",
       "      <td>S</td>\n",
       "      <td>female</td>\n",
       "    </tr>\n",
       "    <tr>\n",
       "      <th>3</th>\n",
       "      <td>4</td>\n",
       "      <td>1</td>\n",
       "      <td>1</td>\n",
       "      <td>Futrelle, Mrs. Jacques Heath (Lily May Peel)</td>\n",
       "      <td>female</td>\n",
       "      <td>35.0</td>\n",
       "      <td>1</td>\n",
       "      <td>0</td>\n",
       "      <td>113803</td>\n",
       "      <td>53.1000</td>\n",
       "      <td>C123</td>\n",
       "      <td>S</td>\n",
       "      <td>female</td>\n",
       "    </tr>\n",
       "    <tr>\n",
       "      <th>4</th>\n",
       "      <td>5</td>\n",
       "      <td>0</td>\n",
       "      <td>3</td>\n",
       "      <td>Allen, Mr. William Henry</td>\n",
       "      <td>male</td>\n",
       "      <td>35.0</td>\n",
       "      <td>0</td>\n",
       "      <td>0</td>\n",
       "      <td>373450</td>\n",
       "      <td>8.0500</td>\n",
       "      <td>NaN</td>\n",
       "      <td>S</td>\n",
       "      <td>male</td>\n",
       "    </tr>\n",
       "  </tbody>\n",
       "</table>\n",
       "</div>"
      ],
      "text/plain": [
       "   PassengerId  Survived  Pclass  \\\n",
       "0            1         0       3   \n",
       "1            2         1       1   \n",
       "2            3         1       3   \n",
       "3            4         1       1   \n",
       "4            5         0       3   \n",
       "\n",
       "                                                Name     Sex   Age  SibSp  \\\n",
       "0                            Braund, Mr. Owen Harris    male  22.0      1   \n",
       "1  Cumings, Mrs. John Bradley (Florence Briggs Th...  female  38.0      1   \n",
       "2                             Heikkinen, Miss. Laina  female  26.0      0   \n",
       "3       Futrelle, Mrs. Jacques Heath (Lily May Peel)  female  35.0      1   \n",
       "4                           Allen, Mr. William Henry    male  35.0      0   \n",
       "\n",
       "   Parch            Ticket     Fare Cabin Embarked  person  \n",
       "0      0         A/5 21171   7.2500   NaN        S    male  \n",
       "1      0          PC 17599  71.2833   C85        C  female  \n",
       "2      0  STON/O2. 3101282   7.9250   NaN        S  female  \n",
       "3      0            113803  53.1000  C123        S  female  \n",
       "4      0            373450   8.0500   NaN        S    male  "
      ]
     },
     "execution_count": 26,
     "metadata": {},
     "output_type": "execute_result"
    }
   ],
   "source": [
    "titanic_df.head()"
   ]
  },
  {
   "cell_type": "code",
   "execution_count": 30,
   "metadata": {},
   "outputs": [
    {
     "data": {
      "text/plain": [
       "<seaborn.axisgrid.FacetGrid at 0xe638be0>"
      ]
     },
     "execution_count": 30,
     "metadata": {},
     "output_type": "execute_result"
    },
    {
     "data": {
      "image/png": "[encoded data removed]",
      "text/plain": [
       "<Figure size 330.375x288 with 1 Axes>"
      ]
     },
     "metadata": {},
     "output_type": "display_data"
    }
   ],
   "source": [
    "# Now we can make a quick factorplot to check out the results, note the row_order argument, used to deal with NaN values\n",
    "sns.factorplot('Embarked',data=titanic_df,hue='Pclass',row_order=['C','Q','S'],kind=\"count\")"
   ]
  },
  {
   "cell_type": "code",
   "execution_count": 31,
   "metadata": {},
   "outputs": [],
   "source": [
    "# Q4 who was alone and who was with family"
   ]
  },
  {
   "cell_type": "code",
   "execution_count": 32,
   "metadata": {},
   "outputs": [
    {
     "data": {
      "text/html": [
       "<div>\n",
       "<style scoped>\n",
       "    .dataframe tbody tr th:only-of-type {\n",
       "        vertical-align: middle;\n",
       "    }\n",
       "\n",
       "    .dataframe tbody tr th {\n",
       "        vertical-align: top;\n",
       "    }\n",
       "\n",
       "    .dataframe thead th {\n",
       "        text-align: right;\n",
       "    }\n",
       "</style>\n",
       "<table border=\"1\" class=\"dataframe\">\n",
       "  <thead>\n",
       "    <tr style=\"text-align: right;\">\n",
       "      <th></th>\n",
       "      <th>PassengerId</th>\n",
       "      <th>Survived</th>\n",
       "      <th>Pclass</th>\n",
       "      <th>Name</th>\n",
       "      <th>Sex</th>\n",
       "      <th>Age</th>\n",
       "      <th>SibSp</th>\n",
       "      <th>Parch</th>\n",
       "      <th>Ticket</th>\n",
       "      <th>Fare</th>\n",
       "      <th>Cabin</th>\n",
       "      <th>Embarked</th>\n",
       "      <th>person</th>\n",
       "    </tr>\n",
       "  </thead>\n",
       "  <tbody>\n",
       "    <tr>\n",
       "      <th>0</th>\n",
       "      <td>1</td>\n",
       "      <td>0</td>\n",
       "      <td>3</td>\n",
       "      <td>Braund, Mr. Owen Harris</td>\n",
       "      <td>male</td>\n",
       "      <td>22.0</td>\n",
       "      <td>1</td>\n",
       "      <td>0</td>\n",
       "      <td>A/5 21171</td>\n",
       "      <td>7.2500</td>\n",
       "      <td>NaN</td>\n",
       "      <td>S</td>\n",
       "      <td>male</td>\n",
       "    </tr>\n",
       "    <tr>\n",
       "      <th>1</th>\n",
       "      <td>2</td>\n",
       "      <td>1</td>\n",
       "      <td>1</td>\n",
       "      <td>Cumings, Mrs. John Bradley (Florence Briggs Th...</td>\n",
       "      <td>female</td>\n",
       "      <td>38.0</td>\n",
       "      <td>1</td>\n",
       "      <td>0</td>\n",
       "      <td>PC 17599</td>\n",
       "      <td>71.2833</td>\n",
       "      <td>C85</td>\n",
       "      <td>C</td>\n",
       "      <td>female</td>\n",
       "    </tr>\n",
       "    <tr>\n",
       "      <th>2</th>\n",
       "      <td>3</td>\n",
       "      <td>1</td>\n",
       "      <td>3</td>\n",
       "      <td>Heikkinen, Miss. Laina</td>\n",
       "      <td>female</td>\n",
       "      <td>26.0</td>\n",
       "      <td>0</td>\n",
       "      <td>0</td>\n",
       "      <td>STON/O2. 3101282</td>\n",
       "      <td>7.9250</td>\n",
       "      <td>NaN</td>\n",
       "      <td>S</td>\n",
       "      <td>female</td>\n",
       "    </tr>\n",
       "    <tr>\n",
       "      <th>3</th>\n",
       "      <td>4</td>\n",
       "      <td>1</td>\n",
       "      <td>1</td>\n",
       "      <td>Futrelle, Mrs. Jacques Heath (Lily May Peel)</td>\n",
       "      <td>female</td>\n",
       "      <td>35.0</td>\n",
       "      <td>1</td>\n",
       "      <td>0</td>\n",
       "      <td>113803</td>\n",
       "      <td>53.1000</td>\n",
       "      <td>C123</td>\n",
       "      <td>S</td>\n",
       "      <td>female</td>\n",
       "    </tr>\n",
       "    <tr>\n",
       "      <th>4</th>\n",
       "      <td>5</td>\n",
       "      <td>0</td>\n",
       "      <td>3</td>\n",
       "      <td>Allen, Mr. William Henry</td>\n",
       "      <td>male</td>\n",
       "      <td>35.0</td>\n",
       "      <td>0</td>\n",
       "      <td>0</td>\n",
       "      <td>373450</td>\n",
       "      <td>8.0500</td>\n",
       "      <td>NaN</td>\n",
       "      <td>S</td>\n",
       "      <td>male</td>\n",
       "    </tr>\n",
       "  </tbody>\n",
       "</table>\n",
       "</div>"
      ],
      "text/plain": [
       "   PassengerId  Survived  Pclass  \\\n",
       "0            1         0       3   \n",
       "1            2         1       1   \n",
       "2            3         1       3   \n",
       "3            4         1       1   \n",
       "4            5         0       3   \n",
       "\n",
       "                                                Name     Sex   Age  SibSp  \\\n",
       "0                            Braund, Mr. Owen Harris    male  22.0      1   \n",
       "1  Cumings, Mrs. John Bradley (Florence Briggs Th...  female  38.0      1   \n",
       "2                             Heikkinen, Miss. Laina  female  26.0      0   \n",
       "3       Futrelle, Mrs. Jacques Heath (Lily May Peel)  female  35.0      1   \n",
       "4                           Allen, Mr. William Henry    male  35.0      0   \n",
       "\n",
       "   Parch            Ticket     Fare Cabin Embarked  person  \n",
       "0      0         A/5 21171   7.2500   NaN        S    male  \n",
       "1      0          PC 17599  71.2833   C85        C  female  \n",
       "2      0  STON/O2. 3101282   7.9250   NaN        S  female  \n",
       "3      0            113803  53.1000  C123        S  female  \n",
       "4      0            373450   8.0500   NaN        S    male  "
      ]
     },
     "execution_count": 32,
     "metadata": {},
     "output_type": "execute_result"
    }
   ],
   "source": [
    "titanic_df.head()"
   ]
  },
  {
   "cell_type": "code",
   "execution_count": 36,
   "metadata": {},
   "outputs": [
    {
     "data": {
      "text/plain": [
       "0       1\n",
       "1       1\n",
       "2       0\n",
       "3       1\n",
       "4       0\n",
       "5       0\n",
       "6       0\n",
       "7       4\n",
       "8       2\n",
       "9       1\n",
       "10      2\n",
       "11      0\n",
       "12      0\n",
       "13      6\n",
       "14      0\n",
       "15      0\n",
       "16      5\n",
       "17      0\n",
       "18      1\n",
       "19      0\n",
       "20      0\n",
       "21      0\n",
       "22      0\n",
       "23      0\n",
       "24      4\n",
       "25      6\n",
       "26      0\n",
       "27      5\n",
       "28      0\n",
       "29      0\n",
       "       ..\n",
       "861     1\n",
       "862     0\n",
       "863    10\n",
       "864     0\n",
       "865     0\n",
       "866     1\n",
       "867     0\n",
       "868     0\n",
       "869     2\n",
       "870     0\n",
       "871     2\n",
       "872     0\n",
       "873     0\n",
       "874     1\n",
       "875     0\n",
       "876     0\n",
       "877     0\n",
       "878     0\n",
       "879     1\n",
       "880     1\n",
       "881     0\n",
       "882     0\n",
       "883     0\n",
       "884     0\n",
       "885     5\n",
       "886     0\n",
       "887     0\n",
       "888     3\n",
       "889     0\n",
       "890     0\n",
       "Name: Alone, Length: 891, dtype: int64"
      ]
     },
     "execution_count": 36,
     "metadata": {},
     "output_type": "execute_result"
    }
   ],
   "source": [
    "titanic_df['Alone']=titanic_df.SibSp+titanic_df.Parch\n",
    "titanic_df['Alone']"
   ]
  },
  {
   "cell_type": "code",
   "execution_count": 37,
   "metadata": {},
   "outputs": [
    {
     "name": "stderr",
     "output_type": "stream",
     "text": [
      "C:\\anaconda\\lib\\site-packages\\pandas\\core\\indexing.py:189: SettingWithCopyWarning: \n",
      "A value is trying to be set on a copy of a slice from a DataFrame\n",
      "\n",
      "See the caveats in the documentation: http://pandas.pydata.org/pandas-docs/stable/indexing.html#indexing-view-versus-copy\n",
      "  self._setitem_with_indexer(indexer, value)\n"
     ]
    }
   ],
   "source": [
    "titanic_df['Alone'].loc[titanic_df['Alone']>0]=\"With Family\"\n",
    "titanic_df['Alone'].loc[titanic_df['Alone']==0]=\"Alone\""
   ]
  },
  {
   "cell_type": "code",
   "execution_count": 38,
   "metadata": {},
   "outputs": [
    {
     "data": {
      "text/html": [
       "<div>\n",
       "<style scoped>\n",
       "    .dataframe tbody tr th:only-of-type {\n",
       "        vertical-align: middle;\n",
       "    }\n",
       "\n",
       "    .dataframe tbody tr th {\n",
       "        vertical-align: top;\n",
       "    }\n",
       "\n",
       "    .dataframe thead th {\n",
       "        text-align: right;\n",
       "    }\n",
       "</style>\n",
       "<table border=\"1\" class=\"dataframe\">\n",
       "  <thead>\n",
       "    <tr style=\"text-align: right;\">\n",
       "      <th></th>\n",
       "      <th>PassengerId</th>\n",
       "      <th>Survived</th>\n",
       "      <th>Pclass</th>\n",
       "      <th>Name</th>\n",
       "      <th>Sex</th>\n",
       "      <th>Age</th>\n",
       "      <th>SibSp</th>\n",
       "      <th>Parch</th>\n",
       "      <th>Ticket</th>\n",
       "      <th>Fare</th>\n",
       "      <th>Cabin</th>\n",
       "      <th>Embarked</th>\n",
       "      <th>person</th>\n",
       "      <th>Alone</th>\n",
       "    </tr>\n",
       "  </thead>\n",
       "  <tbody>\n",
       "    <tr>\n",
       "      <th>0</th>\n",
       "      <td>1</td>\n",
       "      <td>0</td>\n",
       "      <td>3</td>\n",
       "      <td>Braund, Mr. Owen Harris</td>\n",
       "      <td>male</td>\n",
       "      <td>22.0</td>\n",
       "      <td>1</td>\n",
       "      <td>0</td>\n",
       "      <td>A/5 21171</td>\n",
       "      <td>7.2500</td>\n",
       "      <td>NaN</td>\n",
       "      <td>S</td>\n",
       "      <td>male</td>\n",
       "      <td>With Family</td>\n",
       "    </tr>\n",
       "    <tr>\n",
       "      <th>1</th>\n",
       "      <td>2</td>\n",
       "      <td>1</td>\n",
       "      <td>1</td>\n",
       "      <td>Cumings, Mrs. John Bradley (Florence Briggs Th...</td>\n",
       "      <td>female</td>\n",
       "      <td>38.0</td>\n",
       "      <td>1</td>\n",
       "      <td>0</td>\n",
       "      <td>PC 17599</td>\n",
       "      <td>71.2833</td>\n",
       "      <td>C85</td>\n",
       "      <td>C</td>\n",
       "      <td>female</td>\n",
       "      <td>With Family</td>\n",
       "    </tr>\n",
       "    <tr>\n",
       "      <th>2</th>\n",
       "      <td>3</td>\n",
       "      <td>1</td>\n",
       "      <td>3</td>\n",
       "      <td>Heikkinen, Miss. Laina</td>\n",
       "      <td>female</td>\n",
       "      <td>26.0</td>\n",
       "      <td>0</td>\n",
       "      <td>0</td>\n",
       "      <td>STON/O2. 3101282</td>\n",
       "      <td>7.9250</td>\n",
       "      <td>NaN</td>\n",
       "      <td>S</td>\n",
       "      <td>female</td>\n",
       "      <td>Alone</td>\n",
       "    </tr>\n",
       "    <tr>\n",
       "      <th>3</th>\n",
       "      <td>4</td>\n",
       "      <td>1</td>\n",
       "      <td>1</td>\n",
       "      <td>Futrelle, Mrs. Jacques Heath (Lily May Peel)</td>\n",
       "      <td>female</td>\n",
       "      <td>35.0</td>\n",
       "      <td>1</td>\n",
       "      <td>0</td>\n",
       "      <td>113803</td>\n",
       "      <td>53.1000</td>\n",
       "      <td>C123</td>\n",
       "      <td>S</td>\n",
       "      <td>female</td>\n",
       "      <td>With Family</td>\n",
       "    </tr>\n",
       "    <tr>\n",
       "      <th>4</th>\n",
       "      <td>5</td>\n",
       "      <td>0</td>\n",
       "      <td>3</td>\n",
       "      <td>Allen, Mr. William Henry</td>\n",
       "      <td>male</td>\n",
       "      <td>35.0</td>\n",
       "      <td>0</td>\n",
       "      <td>0</td>\n",
       "      <td>373450</td>\n",
       "      <td>8.0500</td>\n",
       "      <td>NaN</td>\n",
       "      <td>S</td>\n",
       "      <td>male</td>\n",
       "      <td>Alone</td>\n",
       "    </tr>\n",
       "  </tbody>\n",
       "</table>\n",
       "</div>"
      ],
      "text/plain": [
       "   PassengerId  Survived  Pclass  \\\n",
       "0            1         0       3   \n",
       "1            2         1       1   \n",
       "2            3         1       3   \n",
       "3            4         1       1   \n",
       "4            5         0       3   \n",
       "\n",
       "                                                Name     Sex   Age  SibSp  \\\n",
       "0                            Braund, Mr. Owen Harris    male  22.0      1   \n",
       "1  Cumings, Mrs. John Bradley (Florence Briggs Th...  female  38.0      1   \n",
       "2                             Heikkinen, Miss. Laina  female  26.0      0   \n",
       "3       Futrelle, Mrs. Jacques Heath (Lily May Peel)  female  35.0      1   \n",
       "4                           Allen, Mr. William Henry    male  35.0      0   \n",
       "\n",
       "   Parch            Ticket     Fare Cabin Embarked  person        Alone  \n",
       "0      0         A/5 21171   7.2500   NaN        S    male  With Family  \n",
       "1      0          PC 17599  71.2833   C85        C  female  With Family  \n",
       "2      0  STON/O2. 3101282   7.9250   NaN        S  female        Alone  \n",
       "3      0            113803  53.1000  C123        S  female  With Family  \n",
       "4      0            373450   8.0500   NaN        S    male        Alone  "
      ]
     },
     "execution_count": 38,
     "metadata": {},
     "output_type": "execute_result"
    }
   ],
   "source": [
    "titanic_df.head()"
   ]
  },
  {
   "cell_type": "code",
   "execution_count": 40,
   "metadata": {},
   "outputs": [
    {
     "data": {
      "text/plain": [
       "<seaborn.axisgrid.FacetGrid at 0xd786278>"
      ]
     },
     "execution_count": 40,
     "metadata": {},
     "output_type": "execute_result"
    },
    {
     "data": {
      "image/png": "[encoded data removed]",
      "text/plain": [
       "<Figure size 288x288 with 1 Axes>"
      ]
     },
     "metadata": {},
     "output_type": "display_data"
    }
   ],
   "source": [
    "sns.factorplot('Alone',data=titanic_df,palette='Blues',kind=\"count\")"
   ]
  },
  {
   "cell_type": "code",
   "execution_count": 41,
   "metadata": {},
   "outputs": [],
   "source": [
    "#what factors allow people to survive"
   ]
  },
  {
   "cell_type": "code",
   "execution_count": 42,
   "metadata": {},
   "outputs": [
    {
     "data": {
      "text/plain": [
       "<seaborn.axisgrid.FacetGrid at 0xe69eef0>"
      ]
     },
     "execution_count": 42,
     "metadata": {},
     "output_type": "execute_result"
    },
    {
     "data": {
      "image/png": "[encoded data removed]",
      "text/plain": [
       "<Figure size 288x288 with 1 Axes>"
      ]
     },
     "metadata": {},
     "output_type": "display_data"
    }
   ],
   "source": [
    "titanic_df['Survivor']=titanic_df.Survived.map({0:'no',1:'yes'})\n",
    "sns.factorplot('Survivor',data=titanic_df,palette='inferno',kind=\"count\")"
   ]
  },
  {
   "cell_type": "code",
   "execution_count": 45,
   "metadata": {},
   "outputs": [
    {
     "data": {
      "text/plain": [
       "<seaborn.axisgrid.FacetGrid at 0xe5c0390>"
      ]
     },
     "execution_count": 45,
     "metadata": {},
     "output_type": "execute_result"
    },
    {
     "data": {
      "image/png": "[encoded data removed]",
      "text/plain": [
       "<Figure size 358.5x288 with 1 Axes>"
      ]
     },
     "metadata": {},
     "output_type": "display_data"
    }
   ],
   "source": [
    "sns.factorplot('Pclass','Survived',data=titanic_df,hue='person',kind=\"point\")"
   ]
  },
  {
   "cell_type": "code",
   "execution_count": 46,
   "metadata": {},
   "outputs": [
    {
     "data": {
      "text/plain": [
       "<seaborn.axisgrid.FacetGrid at 0xfb7ff28>"
      ]
     },
     "execution_count": 46,
     "metadata": {},
     "output_type": "execute_result"
    },
    {
     "data": {
      "image/png": "[encoded data removed]",
      "text/plain": [
       "<Figure size 360x360 with 1 Axes>"
      ]
     },
     "metadata": {},
     "output_type": "display_data"
    }
   ],
   "source": [
    "sns.lmplot('Age','Survived',data=titanic_df)"
   ]
  },
  {
   "cell_type": "code",
   "execution_count": 47,
   "metadata": {},
   "outputs": [
    {
     "data": {
      "text/plain": [
       "<seaborn.axisgrid.FacetGrid at 0xe69e6d8>"
      ]
     },
     "execution_count": 47,
     "metadata": {},
     "output_type": "execute_result"
    },
    {
     "data": {
      "image/png": "[encoded data removed]",
      "text/plain": [
       "<Figure size 402.375x360 with 1 Axes>"
      ]
     },
     "metadata": {},
     "output_type": "display_data"
    }
   ],
   "source": [
    "sns.lmplot('Age','Survived',hue='Pclass',data=titanic_df,palette='winter')"
   ]
  },
  {
   "cell_type": "code",
   "execution_count": 48,
   "metadata": {},
   "outputs": [
    {
     "data": {
      "text/plain": [
       "<seaborn.axisgrid.FacetGrid at 0xfe284a8>"
      ]
     },
     "execution_count": 48,
     "metadata": {},
     "output_type": "execute_result"
    },
    {
     "data": {
      "image/png": "[encoded data removed]",
      "text/plain": [
       "<Figure size 402.375x360 with 1 Axes>"
      ]
     },
     "metadata": {},
     "output_type": "display_data"
    }
   ],
   "source": [
    "generations=[10,20,30,40,50]\n",
    "sns.lmplot('Age','Survived',hue='Pclass',data=titanic_df,palette='winter',x_bins=generations)\n"
   ]
  },
  {
   "cell_type": "code",
   "execution_count": 49,
   "metadata": {},
   "outputs": [
    {
     "data": {
      "text/plain": [
       "<seaborn.axisgrid.FacetGrid at 0xeb29a20>"
      ]
     },
     "execution_count": 49,
     "metadata": {},
     "output_type": "execute_result"
    },
    {
     "data": {
      "image/png": "[encoded data removed]",
      "text/plain": [
       "<Figure size 430.5x360 with 1 Axes>"
      ]
     },
     "metadata": {},
     "output_type": "display_data"
    }
   ],
   "source": [
    "sns.lmplot('Age','Survived',hue='Sex',data=titanic_df,palette='winter',x_bins=generations)\n"
   ]
  },
  {
   "cell_type": "code",
   "execution_count": 51,
   "metadata": {},
   "outputs": [
    {
     "data": {
      "text/plain": [
       "<seaborn.axisgrid.FacetGrid at 0x103d3710>"
      ]
     },
     "execution_count": 51,
     "metadata": {},
     "output_type": "execute_result"
    },
    {
     "data": {
      "image/png": "[encoded data removed]",
      "text/plain": [
       "<Figure size 288x288 with 1 Axes>"
      ]
     },
     "metadata": {},
     "output_type": "display_data"
    }
   ],
   "source": [
    "#Did having a family member increase the odds of surviving the crash?\n",
    "\n",
    "sns.factorplot('Alone','Survived',data=titanic_df,palette='Blues',kind=\"bar\")"
   ]
  },
  {
   "cell_type": "code",
   "execution_count": 68,
   "metadata": {},
   "outputs": [
    {
     "data": {
      "application/javascript": [
       "/* Put everything inside the global mpl namespace */\n",
       "window.mpl = {};\n",
       "\n",
       "\n",
       "mpl.get_websocket_type = function() {\n",
       "    if (typeof(WebSocket) !== 'undefined') {\n",
       "        return WebSocket;\n",
       "    } else if (typeof(MozWebSocket) !== 'undefined') {\n",
       "        return MozWebSocket;\n",
       "    } else {\n",
       "        alert('Your browser does not have WebSocket support.' +\n",
       "              'Please try Chrome, Safari or Firefox ≥ 6. ' +\n",
       "              'Firefox 4 and 5 are also supported but you ' +\n",
       "              'have to enable WebSockets in about:config.');\n",
       "    };\n",
       "}\n",
       "\n",
       "mpl.figure = function(figure_id, websocket, ondownload, parent_element) {\n",
       "    this.id = figure_id;\n",
       "\n",
       "    this.ws = websocket;\n",
       "\n",
       "    this.supports_binary = (this.ws.binaryType != undefined);\n",
       "\n",
       "    if (!this.supports_binary) {\n",
       "        var warnings = document.getElementById(\"mpl-warnings\");\n",
       "        if (warnings) {\n",
       "            warnings.style.display = 'block';\n",
       "            warnings.textContent = (\n",
       "                \"This browser does not support binary websocket messages. \" +\n",
       "                    \"Performance may be slow.\");\n",
       "        }\n",
       "    }\n",
       "\n",
       "    this.imageObj = new Image();\n",
       "\n",
       "    this.context = undefined;\n",
       "    this.message = undefined;\n",
       "    this.canvas = undefined;\n",
       "    this.rubberband_canvas = undefined;\n",
       "    this.rubberband_context = undefined;\n",
       "    this.format_dropdown = undefined;\n",
       "\n",
       "    this.image_mode = 'full';\n",
       "\n",
       "    this.root = $('<div/>');\n",
       "    this._root_extra_style(this.root)\n",
       "    this.root.attr('style', 'display: inline-block');\n",
       "\n",
       "    $(parent_element).append(this.root);\n",
       "\n",
       "    this._init_header(this);\n",
       "    this._init_canvas(this);\n",
       "    this._init_toolbar(this);\n",
       "\n",
       "    var fig = this;\n",
       "\n",
       "    this.waiting = false;\n",
       "\n",
       "    this.ws.onopen =  function () {\n",
       "            fig.send_message(\"supports_binary\", {value: fig.supports_binary});\n",
       "            fig.send_message(\"send_image_mode\", {});\n",
       "            if (mpl.ratio != 1) {\n",
       "                fig.send_message(\"set_dpi_ratio\", {'dpi_ratio': mpl.ratio});\n",
       "            }\n",
       "            fig.send_message(\"refresh\", {});\n",
       "        }\n",
       "\n",
       "    this.imageObj.onload = function() {\n",
       "            if (fig.image_mode == 'full') {\n",
       "                // Full images could contain transparency (where diff images\n",
       "                // almost always do), so we need to clear the canvas so that\n",
       "                // there is no ghosting.\n",
       "                fig.context.clearRect(0, 0, fig.canvas.width, fig.canvas.height);\n",
       "            }\n",
       "            fig.context.drawImage(fig.imageObj, 0, 0);\n",
       "        };\n",
       "\n",
       "    this.imageObj.onunload = function() {\n",
       "        fig.ws.close();\n",
       "    }\n",
       "\n",
       "    this.ws.onmessage = this._make_on_message_function(this);\n",
       "\n",
       "    this.ondownload = ondownload;\n",
       "}\n",
       "\n",
       "mpl.figure.prototype._init_header = function() {\n",
       "    var titlebar = $(\n",
       "        '<div class=\"ui-dialog-titlebar ui-widget-header ui-corner-all ' +\n",
       "        'ui-helper-clearfix\"/>');\n",
       "    var titletext = $(\n",
       "        '<div class=\"ui-dialog-title\" style=\"width: 100%; ' +\n",
       "        'text-align: center; padding: 3px;\"/>');\n",
       "    titlebar.append(titletext)\n",
       "    this.root.append(titlebar);\n",
       "    this.header = titletext[0];\n",
       "}\n",
       "\n",
       "\n",
       "\n",
       "mpl.figure.prototype._canvas_extra_style = function(canvas_div) {\n",
       "\n",
       "}\n",
       "\n",
       "\n",
       "mpl.figure.prototype._root_extra_style = function(canvas_div) {\n",
       "\n",
       "}\n",
       "\n",
       "mpl.figure.prototype._init_canvas = function() {\n",
       "    var fig = this;\n",
       "\n",
       "    var canvas_div = $('<div/>');\n",
       "\n",
       "    canvas_div.attr('style', 'position: relative; clear: both; outline: 0');\n",
       "\n",
       "    function canvas_keyboard_event(event) {\n",
       "        return fig.key_event(event, event['data']);\n",
       "    }\n",
       "\n",
       "    canvas_div.keydown('key_press', canvas_keyboard_event);\n",
       "    canvas_div.keyup('key_release', canvas_keyboard_event);\n",
       "    this.canvas_div = canvas_div\n",
       "    this._canvas_extra_style(canvas_div)\n",
       "    this.root.append(canvas_div);\n",
       "\n",
       "    var canvas = $('<canvas/>');\n",
       "    canvas.addClass('mpl-canvas');\n",
       "    canvas.attr('style', \"left: 0; top: 0; z-index: 0; outline: 0\")\n",
       "\n",
       "    this.canvas = canvas[0];\n",
       "    this.context = canvas[0].getContext(\"2d\");\n",
       "\n",
       "    var backingStore = this.context.backingStorePixelRatio ||\n",
       "\tthis.context.webkitBackingStorePixelRatio ||\n",
       "\tthis.context.mozBackingStorePixelRatio ||\n",
       "\tthis.context.msBackingStorePixelRatio ||\n",
       "\tthis.context.oBackingStorePixelRatio ||\n",
       "\tthis.context.backingStorePixelRatio || 1;\n",
       "\n",
       "    mpl.ratio = (window.devicePixelRatio || 1) / backingStore;\n",
       "\n",
       "    var rubberband = $('<canvas/>');\n",
       "    rubberband.attr('style', \"position: absolute; left: 0; top: 0; z-index: 1;\")\n",
       "\n",
       "    var pass_mouse_events = true;\n",
       "\n",
       "    canvas_div.resizable({\n",
       "        start: function(event, ui) {\n",
       "            pass_mouse_events = false;\n",
       "        },\n",
       "        resize: function(event, ui) {\n",
       "            fig.request_resize(ui.size.width, ui.size.height);\n",
       "        },\n",
       "        stop: function(event, ui) {\n",
       "            pass_mouse_events = true;\n",
       "            fig.request_resize(ui.size.width, ui.size.height);\n",
       "        },\n",
       "    });\n",
       "\n",
       "    function mouse_event_fn(event) {\n",
       "        if (pass_mouse_events)\n",
       "            return fig.mouse_event(event, event['data']);\n",
       "    }\n",
       "\n",
       "    rubberband.mousedown('button_press', mouse_event_fn);\n",
       "    rubberband.mouseup('button_release', mouse_event_fn);\n",
       "    // Throttle sequential mouse events to 1 every 20ms.\n",
       "    rubberband.mousemove('motion_notify', mouse_event_fn);\n",
       "\n",
       "    rubberband.mouseenter('figure_enter', mouse_event_fn);\n",
       "    rubberband.mouseleave('figure_leave', mouse_event_fn);\n",
       "\n",
       "    canvas_div.on(\"wheel\", function (event) {\n",
       "        event = event.originalEvent;\n",
       "        event['data'] = 'scroll'\n",
       "        if (event.deltaY < 0) {\n",
       "            event.step = 1;\n",
       "        } else {\n",
       "            event.step = -1;\n",
       "        }\n",
       "        mouse_event_fn(event);\n",
       "    });\n",
       "\n",
       "    canvas_div.append(canvas);\n",
       "    canvas_div.append(rubberband);\n",
       "\n",
       "    this.rubberband = rubberband;\n",
       "    this.rubberband_canvas = rubberband[0];\n",
       "    this.rubberband_context = rubberband[0].getContext(\"2d\");\n",
       "    this.rubberband_context.strokeStyle = \"#000000\";\n",
       "\n",
       "    this._resize_canvas = function(width, height) {\n",
       "        // Keep the size of the canvas, canvas container, and rubber band\n",
       "        // canvas in synch.\n",
       "        canvas_div.css('width', width)\n",
       "        canvas_div.css('height', height)\n",
       "\n",
       "        canvas.attr('width', width * mpl.ratio);\n",
       "        canvas.attr('height', height * mpl.ratio);\n",
       "        canvas.attr('style', 'width: ' + width + 'px; height: ' + height + 'px;');\n",
       "\n",
       "        rubberband.attr('width', width);\n",
       "        rubberband.attr('height', height);\n",
       "    }\n",
       "\n",
       "    // Set the figure to an initial 600x600px, this will subsequently be updated\n",
       "    // upon first draw.\n",
       "    this._resize_canvas(600, 600);\n",
       "\n",
       "    // Disable right mouse context menu.\n",
       "    $(this.rubberband_canvas).bind(\"contextmenu\",function(e){\n",
       "        return false;\n",
       "    });\n",
       "\n",
       "    function set_focus () {\n",
       "        canvas.focus();\n",
       "        canvas_div.focus();\n",
       "    }\n",
       "\n",
       "    window.setTimeout(set_focus, 100);\n",
       "}\n",
       "\n",
       "mpl.figure.prototype._init_toolbar = function() {\n",
       "    var fig = this;\n",
       "\n",
       "    var nav_element = $('<div/>')\n",
       "    nav_element.attr('style', 'width: 100%');\n",
       "    this.root.append(nav_element);\n",
       "\n",
       "    // Define a callback function for later on.\n",
       "    function toolbar_event(event) {\n",
       "        return fig.toolbar_button_onclick(event['data']);\n",
       "    }\n",
       "    function toolbar_mouse_event(event) {\n",
       "        return fig.toolbar_button_onmouseover(event['data']);\n",
       "    }\n",
       "\n",
       "    for(var toolbar_ind in mpl.toolbar_items) {\n",
       "        var name = mpl.toolbar_items[toolbar_ind][0];\n",
       "        var tooltip = mpl.toolbar_items[toolbar_ind][1];\n",
       "        var image = mpl.toolbar_items[toolbar_ind][2];\n",
       "        var method_name = mpl.toolbar_items[toolbar_ind][3];\n",
       "\n",
       "        if (!name) {\n",
       "            // put a spacer in here.\n",
       "            continue;\n",
       "        }\n",
       "        var button = $('<button/>');\n",
       "        button.addClass('ui-button ui-widget ui-state-default ui-corner-all ' +\n",
       "                        'ui-button-icon-only');\n",
       "        button.attr('role', 'button');\n",
       "        button.attr('aria-disabled', 'false');\n",
       "        button.click(method_name, toolbar_event);\n",
       "        button.mouseover(tooltip, toolbar_mouse_event);\n",
       "\n",
       "        var icon_img = $('<span/>');\n",
       "        icon_img.addClass('ui-button-icon-primary ui-icon');\n",
       "        icon_img.addClass(image);\n",
       "        icon_img.addClass('ui-corner-all');\n",
       "\n",
       "        var tooltip_span = $('<span/>');\n",
       "        tooltip_span.addClass('ui-button-text');\n",
       "        tooltip_span.html(tooltip);\n",
       "\n",
       "        button.append(icon_img);\n",
       "        button.append(tooltip_span);\n",
       "\n",
       "        nav_element.append(button);\n",
       "    }\n",
       "\n",
       "    var fmt_picker_span = $('<span/>');\n",
       "\n",
       "    var fmt_picker = $('<select/>');\n",
       "    fmt_picker.addClass('mpl-toolbar-option ui-widget ui-widget-content');\n",
       "    fmt_picker_span.append(fmt_picker);\n",
       "    nav_element.append(fmt_picker_span);\n",
       "    this.format_dropdown = fmt_picker[0];\n",
       "\n",
       "    for (var ind in mpl.extensions) {\n",
       "        var fmt = mpl.extensions[ind];\n",
       "        var option = $(\n",
       "            '<option/>', {selected: fmt === mpl.default_extension}).html(fmt);\n",
       "        fmt_picker.append(option)\n",
       "    }\n",
       "\n",
       "    // Add hover states to the ui-buttons\n",
       "    $( \".ui-button\" ).hover(\n",
       "        function() { $(this).addClass(\"ui-state-hover\");},\n",
       "        function() { $(this).removeClass(\"ui-state-hover\");}\n",
       "    );\n",
       "\n",
       "    var status_bar = $('<span class=\"mpl-message\"/>');\n",
       "    nav_element.append(status_bar);\n",
       "    this.message = status_bar[0];\n",
       "}\n",
       "\n",
       "mpl.figure.prototype.request_resize = function(x_pixels, y_pixels) {\n",
       "    // Request matplotlib to resize the figure. Matplotlib will then trigger a resize in the client,\n",
       "    // which will in turn request a refresh of the image.\n",
       "    this.send_message('resize', {'width': x_pixels, 'height': y_pixels});\n",
       "}\n",
       "\n",
       "mpl.figure.prototype.send_message = function(type, properties) {\n",
       "    properties['type'] = type;\n",
       "    properties['figure_id'] = this.id;\n",
       "    this.ws.send(JSON.stringify(properties));\n",
       "}\n",
       "\n",
       "mpl.figure.prototype.send_draw_message = function() {\n",
       "    if (!this.waiting) {\n",
       "        this.waiting = true;\n",
       "        this.ws.send(JSON.stringify({type: \"draw\", figure_id: this.id}));\n",
       "    }\n",
       "}\n",
       "\n",
       "\n",
       "mpl.figure.prototype.handle_save = function(fig, msg) {\n",
       "    var format_dropdown = fig.format_dropdown;\n",
       "    var format = format_dropdown.options[format_dropdown.selectedIndex].value;\n",
       "    fig.ondownload(fig, format);\n",
       "}\n",
       "\n",
       "\n",
       "mpl.figure.prototype.handle_resize = function(fig, msg) {\n",
       "    var size = msg['size'];\n",
       "    if (size[0] != fig.canvas.width || size[1] != fig.canvas.height) {\n",
       "        fig._resize_canvas(size[0], size[1]);\n",
       "        fig.send_message(\"refresh\", {});\n",
       "    };\n",
       "}\n",
       "\n",
       "mpl.figure.prototype.handle_rubberband = function(fig, msg) {\n",
       "    var x0 = msg['x0'] / mpl.ratio;\n",
       "    var y0 = (fig.canvas.height - msg['y0']) / mpl.ratio;\n",
       "    var x1 = msg['x1'] / mpl.ratio;\n",
       "    var y1 = (fig.canvas.height - msg['y1']) / mpl.ratio;\n",
       "    x0 = Math.floor(x0) + 0.5;\n",
       "    y0 = Math.floor(y0) + 0.5;\n",
       "    x1 = Math.floor(x1) + 0.5;\n",
       "    y1 = Math.floor(y1) + 0.5;\n",
       "    var min_x = Math.min(x0, x1);\n",
       "    var min_y = Math.min(y0, y1);\n",
       "    var width = Math.abs(x1 - x0);\n",
       "    var height = Math.abs(y1 - y0);\n",
       "\n",
       "    fig.rubberband_context.clearRect(\n",
       "        0, 0, fig.canvas.width, fig.canvas.height);\n",
       "\n",
       "    fig.rubberband_context.strokeRect(min_x, min_y, width, height);\n",
       "}\n",
       "\n",
       "mpl.figure.prototype.handle_figure_label = function(fig, msg) {\n",
       "    // Updates the figure title.\n",
       "    fig.header.textContent = msg['label'];\n",
       "}\n",
       "\n",
       "mpl.figure.prototype.handle_cursor = function(fig, msg) {\n",
       "    var cursor = msg['cursor'];\n",
       "    switch(cursor)\n",
       "    {\n",
       "    case 0:\n",
       "        cursor = 'pointer';\n",
       "        break;\n",
       "    case 1:\n",
       "        cursor = 'default';\n",
       "        break;\n",
       "    case 2:\n",
       "        cursor = 'crosshair';\n",
       "        break;\n",
       "    case 3:\n",
       "        cursor = 'move';\n",
       "        break;\n",
       "    }\n",
       "    fig.rubberband_canvas.style.cursor = cursor;\n",
       "}\n",
       "\n",
       "mpl.figure.prototype.handle_message = function(fig, msg) {\n",
       "    fig.message.textContent = msg['message'];\n",
       "}\n",
       "\n",
       "mpl.figure.prototype.handle_draw = function(fig, msg) {\n",
       "    // Request the server to send over a new figure.\n",
       "    fig.send_draw_message();\n",
       "}\n",
       "\n",
       "mpl.figure.prototype.handle_image_mode = function(fig, msg) {\n",
       "    fig.image_mode = msg['mode'];\n",
       "}\n",
       "\n",
       "mpl.figure.prototype.updated_canvas_event = function() {\n",
       "    // Called whenever the canvas gets updated.\n",
       "    this.send_message(\"ack\", {});\n",
       "}\n",
       "\n",
       "// A function to construct a web socket function for onmessage handling.\n",
       "// Called in the figure constructor.\n",
       "mpl.figure.prototype._make_on_message_function = function(fig) {\n",
       "    return function socket_on_message(evt) {\n",
       "        if (evt.data instanceof Blob) {\n",
       "            /* FIXME: We get \"Resource interpreted as Image but\n",
       "             * transferred with MIME type text/plain:\" errors on\n",
       "             * Chrome.  But how to set the MIME type?  It doesn't seem\n",
       "             * to be part of the websocket stream */\n",
       "            evt.data.type = \"image/png\";\n",
       "\n",
       "            /* Free the memory for the previous frames */\n",
       "            if (fig.imageObj.src) {\n",
       "                (window.URL || window.webkitURL).revokeObjectURL(\n",
       "                    fig.imageObj.src);\n",
       "            }\n",
       "\n",
       "            fig.imageObj.src = (window.URL || window.webkitURL).createObjectURL(\n",
       "                evt.data);\n",
       "            fig.updated_canvas_event();\n",
       "            fig.waiting = false;\n",
       "            return;\n",
       "        }\n",
       "        else if (typeof evt.data === 'string' && evt.data.slice(0, 21) == \"data:image/png;base64\") {\n",
       "            fig.imageObj.src = evt.data;\n",
       "            fig.updated_canvas_event();\n",
       "            fig.waiting = false;\n",
       "            return;\n",
       "        }\n",
       "\n",
       "        var msg = JSON.parse(evt.data);\n",
       "        var msg_type = msg['type'];\n",
       "\n",
       "        // Call the  \"handle_{type}\" callback, which takes\n",
       "        // the figure and JSON message as its only arguments.\n",
       "        try {\n",
       "            var callback = fig[\"handle_\" + msg_type];\n",
       "        } catch (e) {\n",
       "            console.log(\"No handler for the '\" + msg_type + \"' message type: \", msg);\n",
       "            return;\n",
       "        }\n",
       "\n",
       "        if (callback) {\n",
       "            try {\n",
       "                // console.log(\"Handling '\" + msg_type + \"' message: \", msg);\n",
       "                callback(fig, msg);\n",
       "            } catch (e) {\n",
       "                console.log(\"Exception inside the 'handler_\" + msg_type + \"' callback:\", e, e.stack, msg);\n",
       "            }\n",
       "        }\n",
       "    };\n",
       "}\n",
       "\n",
       "// from http://stackoverflow.com/questions/1114465/getting-mouse-location-in-canvas\n",
       "mpl.findpos = function(e) {\n",
       "    //this section is from http://www.quirksmode.org/js/events_properties.html\n",
       "    var targ;\n",
       "    if (!e)\n",
       "        e = window.event;\n",
       "    if (e.target)\n",
       "        targ = e.target;\n",
       "    else if (e.srcElement)\n",
       "        targ = e.srcElement;\n",
       "    if (targ.nodeType == 3) // defeat Safari bug\n",
       "        targ = targ.parentNode;\n",
       "\n",
       "    // jQuery normalizes the pageX and pageY\n",
       "    // pageX,Y are the mouse positions relative to the document\n",
       "    // offset() returns the position of the element relative to the document\n",
       "    var x = e.pageX - $(targ).offset().left;\n",
       "    var y = e.pageY - $(targ).offset().top;\n",
       "\n",
       "    return {\"x\": x, \"y\": y};\n",
       "};\n",
       "\n",
       "/*\n",
       " * return a copy of an object with only non-object keys\n",
       " * we need this to avoid circular references\n",
       " * http://stackoverflow.com/a/24161582/3208463\n",
       " */\n",
       "function simpleKeys (original) {\n",
       "  return Object.keys(original).reduce(function (obj, key) {\n",
       "    if (typeof original[key] !== 'object')\n",
       "        obj[key] = original[key]\n",
       "    return obj;\n",
       "  }, {});\n",
       "}\n",
       "\n",
       "mpl.figure.prototype.mouse_event = function(event, name) {\n",
       "    var canvas_pos = mpl.findpos(event)\n",
       "\n",
       "    if (name === 'button_press')\n",
       "    {\n",
       "        this.canvas.focus();\n",
       "        this.canvas_div.focus();\n",
       "    }\n",
       "\n",
       "    var x = canvas_pos.x * mpl.ratio;\n",
       "    var y = canvas_pos.y * mpl.ratio;\n",
       "\n",
       "    this.send_message(name, {x: x, y: y, button: event.button,\n",
       "                             step: event.step,\n",
       "                             guiEvent: simpleKeys(event)});\n",
       "\n",
       "    /* This prevents the web browser from automatically changing to\n",
       "     * the text insertion cursor when the button is pressed.  We want\n",
       "     * to control all of the cursor setting manually through the\n",
       "     * 'cursor' event from matplotlib */\n",
       "    event.preventDefault();\n",
       "    return false;\n",
       "}\n",
       "\n",
       "mpl.figure.prototype._key_event_extra = function(event, name) {\n",
       "    // Handle any extra behaviour associated with a key event\n",
       "}\n",
       "\n",
       "mpl.figure.prototype.key_event = function(event, name) {\n",
       "\n",
       "    // Prevent repeat events\n",
       "    if (name == 'key_press')\n",
       "    {\n",
       "        if (event.which === this._key)\n",
       "            return;\n",
       "        else\n",
       "            this._key = event.which;\n",
       "    }\n",
       "    if (name == 'key_release')\n",
       "        this._key = null;\n",
       "\n",
       "    var value = '';\n",
       "    if (event.ctrlKey && event.which != 17)\n",
       "        value += \"ctrl+\";\n",
       "    if (event.altKey && event.which != 18)\n",
       "        value += \"alt+\";\n",
       "    if (event.shiftKey && event.which != 16)\n",
       "        value += \"shift+\";\n",
       "\n",
       "    value += 'k';\n",
       "    value += event.which.toString();\n",
       "\n",
       "    this._key_event_extra(event, name);\n",
       "\n",
       "    this.send_message(name, {key: value,\n",
       "                             guiEvent: simpleKeys(event)});\n",
       "    return false;\n",
       "}\n",
       "\n",
       "mpl.figure.prototype.toolbar_button_onclick = function(name) {\n",
       "    if (name == 'download') {\n",
       "        this.handle_save(this, null);\n",
       "    } else {\n",
       "        this.send_message(\"toolbar_button\", {name: name});\n",
       "    }\n",
       "};\n",
       "\n",
       "mpl.figure.prototype.toolbar_button_onmouseover = function(tooltip) {\n",
       "    this.message.textContent = tooltip;\n",
       "};\n",
       "mpl.toolbar_items = [[\"Home\", \"Reset original view\", \"fa fa-home icon-home\", \"home\"], [\"Back\", \"Back to  previous view\", \"fa fa-arrow-left icon-arrow-left\", \"back\"], [\"Forward\", \"Forward to next view\", \"fa fa-arrow-right icon-arrow-right\", \"forward\"], [\"\", \"\", \"\", \"\"], [\"Pan\", \"Pan axes with left mouse, zoom with right\", \"fa fa-arrows icon-move\", \"pan\"], [\"Zoom\", \"Zoom to rectangle\", \"fa fa-square-o icon-check-empty\", \"zoom\"], [\"\", \"\", \"\", \"\"], [\"Download\", \"Download plot\", \"fa fa-floppy-o icon-save\", \"download\"]];\n",
       "\n",
       "mpl.extensions = [\"eps\", \"jpeg\", \"pdf\", \"png\", \"ps\", \"raw\", \"svg\", \"tif\"];\n",
       "\n",
       "mpl.default_extension = \"png\";var comm_websocket_adapter = function(comm) {\n",
       "    // Create a \"websocket\"-like object which calls the given IPython comm\n",
       "    // object with the appropriate methods. Currently this is a non binary\n",
       "    // socket, so there is still some room for performance tuning.\n",
       "    var ws = {};\n",
       "\n",
       "    ws.close = function() {\n",
       "        comm.close()\n",
       "    };\n",
       "    ws.send = function(m) {\n",
       "        //console.log('sending', m);\n",
       "        comm.send(m);\n",
       "    };\n",
       "    // Register the callback with on_msg.\n",
       "    comm.on_msg(function(msg) {\n",
       "        //console.log('receiving', msg['content']['data'], msg);\n",
       "        // Pass the mpl event to the overridden (by mpl) onmessage function.\n",
       "        ws.onmessage(msg['content']['data'])\n",
       "    });\n",
       "    return ws;\n",
       "}\n",
       "\n",
       "mpl.mpl_figure_comm = function(comm, msg) {\n",
       "    // This is the function which gets called when the mpl process\n",
       "    // starts-up an IPython Comm through the \"matplotlib\" channel.\n",
       "\n",
       "    var id = msg.content.data.id;\n",
       "    // Get hold of the div created by the display call when the Comm\n",
       "    // socket was opened in Python.\n",
       "    var element = $(\"#\" + id);\n",
       "    var ws_proxy = comm_websocket_adapter(comm)\n",
       "\n",
       "    function ondownload(figure, format) {\n",
       "        window.open(figure.imageObj.src);\n",
       "    }\n",
       "\n",
       "    var fig = new mpl.figure(id, ws_proxy,\n",
       "                           ondownload,\n",
       "                           element.get(0));\n",
       "\n",
       "    // Call onopen now - mpl needs it, as it is assuming we've passed it a real\n",
       "    // web socket which is closed, not our websocket->open comm proxy.\n",
       "    ws_proxy.onopen();\n",
       "\n",
       "    fig.parent_element = element.get(0);\n",
       "    fig.cell_info = mpl.find_output_cell(\"<div id='\" + id + \"'></div>\");\n",
       "    if (!fig.cell_info) {\n",
       "        console.error(\"Failed to find cell for figure\", id, fig);\n",
       "        return;\n",
       "    }\n",
       "\n",
       "    var output_index = fig.cell_info[2]\n",
       "    var cell = fig.cell_info[0];\n",
       "\n",
       "};\n",
       "\n",
       "mpl.figure.prototype.handle_close = function(fig, msg) {\n",
       "    var width = fig.canvas.width/mpl.ratio\n",
       "    fig.root.unbind('remove')\n",
       "\n",
       "    // Update the output cell to use the data from the current canvas.\n",
       "    fig.push_to_output();\n",
       "    var dataURL = fig.canvas.toDataURL();\n",
       "    // Re-enable the keyboard manager in IPython - without this line, in FF,\n",
       "    // the notebook keyboard shortcuts fail.\n",
       "    IPython.keyboard_manager.enable()\n",
       "    $(fig.parent_element).html('<img src=\"' + dataURL + '\" width=\"' + width + '\">');\n",
       "    fig.close_ws(fig, msg);\n",
       "}\n",
       "\n",
       "mpl.figure.prototype.close_ws = function(fig, msg){\n",
       "    fig.send_message('closing', msg);\n",
       "    // fig.ws.close()\n",
       "}\n",
       "\n",
       "mpl.figure.prototype.push_to_output = function(remove_interactive) {\n",
       "    // Turn the data on the canvas into data in the output cell.\n",
       "    var width = this.canvas.width/mpl.ratio\n",
       "    var dataURL = this.canvas.toDataURL();\n",
       "    this.cell_info[1]['text/html'] = '<img src=\"' + dataURL + '\" width=\"' + width + '\">';\n",
       "}\n",
       "\n",
       "mpl.figure.prototype.updated_canvas_event = function() {\n",
       "    // Tell IPython that the notebook contents must change.\n",
       "    IPython.notebook.set_dirty(true);\n",
       "    this.send_message(\"ack\", {});\n",
       "    var fig = this;\n",
       "    // Wait a second, then push the new image to the DOM so\n",
       "    // that it is saved nicely (might be nice to debounce this).\n",
       "    setTimeout(function () { fig.push_to_output() }, 1000);\n",
       "}\n",
       "\n",
       "mpl.figure.prototype._init_toolbar = function() {\n",
       "    var fig = this;\n",
       "\n",
       "    var nav_element = $('<div/>')\n",
       "    nav_element.attr('style', 'width: 100%');\n",
       "    this.root.append(nav_element);\n",
       "\n",
       "    // Define a callback function for later on.\n",
       "    function toolbar_event(event) {\n",
       "        return fig.toolbar_button_onclick(event['data']);\n",
       "    }\n",
       "    function toolbar_mouse_event(event) {\n",
       "        return fig.toolbar_button_onmouseover(event['data']);\n",
       "    }\n",
       "\n",
       "    for(var toolbar_ind in mpl.toolbar_items){\n",
       "        var name = mpl.toolbar_items[toolbar_ind][0];\n",
       "        var tooltip = mpl.toolbar_items[toolbar_ind][1];\n",
       "        var image = mpl.toolbar_items[toolbar_ind][2];\n",
       "        var method_name = mpl.toolbar_items[toolbar_ind][3];\n",
       "\n",
       "        if (!name) { continue; };\n",
       "\n",
       "        var button = $('<button class=\"btn btn-default\" href=\"#\" title=\"' + name + '\"><i class=\"fa ' + image + ' fa-lg\"></i></button>');\n",
       "        button.click(method_name, toolbar_event);\n",
       "        button.mouseover(tooltip, toolbar_mouse_event);\n",
       "        nav_element.append(button);\n",
       "    }\n",
       "\n",
       "    // Add the status bar.\n",
       "    var status_bar = $('<span class=\"mpl-message\" style=\"text-align:right; float: right;\"/>');\n",
       "    nav_element.append(status_bar);\n",
       "    this.message = status_bar[0];\n",
       "\n",
       "    // Add the close button to the window.\n",
       "    var buttongrp = $('<div class=\"btn-group inline pull-right\"></div>');\n",
       "    var button = $('<button class=\"btn btn-mini btn-primary\" href=\"#\" title=\"Stop Interaction\"><i class=\"fa fa-power-off icon-remove icon-large\"></i></button>');\n",
       "    button.click(function (evt) { fig.handle_close(fig, {}); } );\n",
       "    button.mouseover('Stop Interaction', toolbar_mouse_event);\n",
       "    buttongrp.append(button);\n",
       "    var titlebar = this.root.find($('.ui-dialog-titlebar'));\n",
       "    titlebar.prepend(buttongrp);\n",
       "}\n",
       "\n",
       "mpl.figure.prototype._root_extra_style = function(el){\n",
       "    var fig = this\n",
       "    el.on(\"remove\", function(){\n",
       "\tfig.close_ws(fig, {});\n",
       "    });\n",
       "}\n",
       "\n",
       "mpl.figure.prototype._canvas_extra_style = function(el){\n",
       "    // this is important to make the div 'focusable\n",
       "    el.attr('tabindex', 0)\n",
       "    // reach out to IPython and tell the keyboard manager to turn it's self\n",
       "    // off when our div gets focus\n",
       "\n",
       "    // location in version 3\n",
       "    if (IPython.notebook.keyboard_manager) {\n",
       "        IPython.notebook.keyboard_manager.register_events(el);\n",
       "    }\n",
       "    else {\n",
       "        // location in version 2\n",
       "        IPython.keyboard_manager.register_events(el);\n",
       "    }\n",
       "\n",
       "}\n",
       "\n",
       "mpl.figure.prototype._key_event_extra = function(event, name) {\n",
       "    var manager = IPython.notebook.keyboard_manager;\n",
       "    if (!manager)\n",
       "        manager = IPython.keyboard_manager;\n",
       "\n",
       "    // Check for shift+enter\n",
       "    if (event.shiftKey && event.which == 13) {\n",
       "        this.canvas_div.blur();\n",
       "        event.shiftKey = false;\n",
       "        // Send a \"J\" for go to next cell\n",
       "        event.which = 74;\n",
       "        event.keyCode = 74;\n",
       "        manager.command_mode();\n",
       "        manager.handle_keydown(event);\n",
       "    }\n",
       "}\n",
       "\n",
       "mpl.figure.prototype.handle_save = function(fig, msg) {\n",
       "    fig.ondownload(fig, null);\n",
       "}\n",
       "\n",
       "\n",
       "mpl.find_output_cell = function(html_output) {\n",
       "    // Return the cell and output element which can be found *uniquely* in the notebook.\n",
       "    // Note - this is a bit hacky, but it is done because the \"notebook_saving.Notebook\"\n",
       "    // IPython event is triggered only after the cells have been serialised, which for\n",
       "    // our purposes (turning an active figure into a static one), is too late.\n",
       "    var cells = IPython.notebook.get_cells();\n",
       "    var ncells = cells.length;\n",
       "    for (var i=0; i<ncells; i++) {\n",
       "        var cell = cells[i];\n",
       "        if (cell.cell_type === 'code'){\n",
       "            for (var j=0; j<cell.output_area.outputs.length; j++) {\n",
       "                var data = cell.output_area.outputs[j];\n",
       "                if (data.data) {\n",
       "                    // IPython >= 3 moved mimebundle to data attribute of output\n",
       "                    data = data.data;\n",
       "                }\n",
       "                if (data['text/html'] == html_output) {\n",
       "                    return [cell, data, j];\n",
       "                }\n",
       "            }\n",
       "        }\n",
       "    }\n",
       "}\n",
       "\n",
       "// Register the function which deals with the matplotlib target/channel.\n",
       "// The kernel may be null if the page has been refreshed.\n",
       "if (IPython.notebook.kernel != null) {\n",
       "    IPython.notebook.kernel.comm_manager.register_target('matplotlib', mpl.mpl_figure_comm);\n",
       "}\n"
      ],
      "text/plain": [
       "<IPython.core.display.Javascript object>"
      ]
     },
     "metadata": {},
     "output_type": "display_data"
    },
    {
     "data": {
      "text/html": [
       "<img src=\"data:image/png;base64,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\" width=\"288\">"
      ],
      "text/plain": [
       "<IPython.core.display.HTML object>"
      ]
     },
     "metadata": {},
     "output_type": "display_data"
    },
    {
     "data": {
      "text/plain": [
       "<seaborn.axisgrid.FacetGrid at 0x178fe080>"
      ]
     },
     "execution_count": 68,
     "metadata": {},
     "output_type": "execute_result"
    }
   ],
   "source": [
    "#Did the deck have an effect on the passengers survival rate? Did this answer match up with your intuition?\n",
    "sns.factorplot('Survived','Cabin',data=titanic_df,palette=\"inferno\",kind=\"bar\")"
   ]
  },
  {
   "cell_type": "code",
   "execution_count": null,
   "metadata": {},
   "outputs": [],
   "source": []
  },
  {
   "cell_type": "code",
   "execution_count": null,
   "metadata": {},
   "outputs": [],
   "source": []
  }
 ],
 "metadata": {
  "kernelspec": {
   "display_name": "Python 2",
   "language": "python",
   "name": "python2"
  },
  "language_info": {
   "codemirror_mode": {
    "name": "ipython",
    "version": 2
   },
   "file_extension": ".py",
   "mimetype": "text/x-python",
   "name": "python",
   "nbconvert_exporter": "python",
   "pygments_lexer": "ipython2",
   "version": "2.7.15"
  }
 },
 "nbformat": 4,
 "nbformat_minor": 2
}
